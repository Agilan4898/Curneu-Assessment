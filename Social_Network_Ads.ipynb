{
  "nbformat": 4,
  "nbformat_minor": 0,
  "metadata": {
    "kernelspec": {
      "display_name": "Python 3",
      "language": "python",
      "name": "python3"
    },
    "language_info": {
      "codemirror_mode": {
        "name": "ipython",
        "version": 3
      },
      "file_extension": ".py",
      "mimetype": "text/x-python",
      "name": "python",
      "nbconvert_exporter": "python",
      "pygments_lexer": "ipython3",
      "version": "3.7.7"
    },
    "colab": {
      "name": "Social_Network_Ads",
      "provenance": [],
      "toc_visible": true
    }
  },
  "cells": [
    {
      "cell_type": "code",
      "metadata": {
        "id": "AcT0jZqFfREh"
      },
      "source": [
        "import pandas as pd\n",
        "import numpy as np\n",
        "import matplotlib as plt\n",
        "import seaborn as sns\n",
        "from sklearn.model_selection import train_test_split\n",
        "from sklearn.preprocessing import StandardScaler"
      ],
      "execution_count": 1,
      "outputs": []
    },
    {
      "cell_type": "code",
      "metadata": {
        "colab": {
          "base_uri": "https://localhost:8080/"
        },
        "id": "951xdCJefc7s",
        "outputId": "541ae79c-bd8f-474a-e727-53f6e0b0a21b"
      },
      "source": [
        "from google.colab import drive\n",
        "drive.mount('/content/drive')"
      ],
      "execution_count": 3,
      "outputs": [
        {
          "output_type": "stream",
          "text": [
            "Drive already mounted at /content/drive; to attempt to forcibly remount, call drive.mount(\"/content/drive\", force_remount=True).\n"
          ],
          "name": "stdout"
        }
      ]
    },
    {
      "cell_type": "code",
      "metadata": {
        "id": "DzsvHKR-fpjf"
      },
      "source": [
        "data=pd.read_excel(\"/content/drive/MyDrive/SD03Q04/Social_Network_Ads.xlsx\")"
      ],
      "execution_count": 4,
      "outputs": []
    },
    {
      "cell_type": "markdown",
      "metadata": {
        "id": "8q66YEJHf3F_"
      },
      "source": [
        ""
      ]
    },
    {
      "cell_type": "code",
      "metadata": {
        "colab": {
          "base_uri": "https://localhost:8080/"
        },
        "id": "UmQpLThGfREq",
        "outputId": "1b7bd798-90a9-4835-9ce0-8e87b8304fc6"
      },
      "source": [
        "data.info()"
      ],
      "execution_count": 5,
      "outputs": [
        {
          "output_type": "stream",
          "text": [
            "<class 'pandas.core.frame.DataFrame'>\n",
            "RangeIndex: 400 entries, 0 to 399\n",
            "Data columns (total 5 columns):\n",
            " #   Column            Non-Null Count  Dtype \n",
            "---  ------            --------------  ----- \n",
            " 0   User ID           400 non-null    int64 \n",
            " 1   Gender            400 non-null    object\n",
            " 2   Age               400 non-null    int64 \n",
            " 3   EstimatedSalary   400 non-null    int64 \n",
            " 4   Purchased         400 non-null    int64 \n",
            "dtypes: int64(4), object(1)\n",
            "memory usage: 15.8+ KB\n"
          ],
          "name": "stdout"
        }
      ]
    },
    {
      "cell_type": "code",
      "metadata": {
        "colab": {
          "base_uri": "https://localhost:8080/",
          "height": 296
        },
        "id": "6ucaGxIJfREr",
        "outputId": "a3616c28-4b17-462a-950e-2bad7f395b90"
      },
      "source": [
        "sns.countplot(x='Gender ',hue='Purchased',data=data)"
      ],
      "execution_count": 6,
      "outputs": [
        {
          "output_type": "execute_result",
          "data": {
            "text/plain": [
              "<matplotlib.axes._subplots.AxesSubplot at 0x7f41796c1c50>"
            ]
          },
          "metadata": {
            "tags": []
          },
          "execution_count": 6
        },
        {
          "output_type": "display_data",
          "data": {
            "image/png": "[encoded data removed]",
            "text/plain": [
              "<Figure size 432x288 with 1 Axes>"
            ]
          },
          "metadata": {
            "tags": [],
            "needs_background": "light"
          }
        }
      ]
    },
    {
      "cell_type": "markdown",
      "metadata": {
        "id": "g0pQOoCafREr"
      },
      "source": [
        " From the above plot we can see that the number of females who buy the product are more than that of the males. So if the customer is a female, then she is more likely to buy the product. \n"
      ]
    },
    {
      "cell_type": "markdown",
      "metadata": {
        "id": "mAQHtXC0fREr"
      },
      "source": [
        "### Now let us analyse how the customer response varies with the age"
      ]
    },
    {
      "cell_type": "markdown",
      "metadata": {
        "id": "t2Tg1sC1fREs"
      },
      "source": [
        "For that we should know the customer demographics and details about the mean age of our customers"
      ]
    },
    {
      "cell_type": "code",
      "metadata": {
        "colab": {
          "base_uri": "https://localhost:8080/",
          "height": 296
        },
        "id": "7UxPCeuzfREs",
        "outputId": "03a80770-91da-4852-a1a8-15bad3ffa382"
      },
      "source": [
        "sns.boxplot(x='Purchased',y='Age ',data=data)"
      ],
      "execution_count": 7,
      "outputs": [
        {
          "output_type": "execute_result",
          "data": {
            "text/plain": [
              "<matplotlib.axes._subplots.AxesSubplot at 0x7f4176fbea90>"
            ]
          },
          "metadata": {
            "tags": []
          },
          "execution_count": 7
        },
        {
          "output_type": "display_data",
          "data": {
            "image/png": "[encoded data removed]",
            "text/plain": [
              "<Figure size 432x288 with 1 Axes>"
            ]
          },
          "metadata": {
            "tags": [],
            "needs_background": "light"
          }
        }
      ]
    },
    {
      "cell_type": "code",
      "metadata": {
        "colab": {
          "base_uri": "https://localhost:8080/"
        },
        "id": "B2eOMYilfREs",
        "outputId": "bdab279d-3637-451a-ed5e-b3f494ebe3f2"
      },
      "source": [
        "data['Age '].describe()"
      ],
      "execution_count": 9,
      "outputs": [
        {
          "output_type": "execute_result",
          "data": {
            "text/plain": [
              "count    400.000000\n",
              "mean      37.655000\n",
              "std       10.482877\n",
              "min       18.000000\n",
              "25%       29.750000\n",
              "50%       37.000000\n",
              "75%       46.000000\n",
              "max       60.000000\n",
              "Name: Age , dtype: float64"
            ]
          },
          "metadata": {
            "tags": []
          },
          "execution_count": 9
        }
      ]
    },
    {
      "cell_type": "code",
      "metadata": {
        "colab": {
          "base_uri": "https://localhost:8080/",
          "height": 400
        },
        "id": "ntv-xWczfREt",
        "outputId": "9253d7e5-8f86-492c-a0f9-e539d55c87ae"
      },
      "source": [
        "sns.catplot(x='Purchased',y='Age ',data=data)"
      ],
      "execution_count": 10,
      "outputs": [
        {
          "output_type": "execute_result",
          "data": {
            "text/plain": [
              "<seaborn.axisgrid.FacetGrid at 0x7f4175bfb4d0>"
            ]
          },
          "metadata": {
            "tags": []
          },
          "execution_count": 10
        },
        {
          "output_type": "display_data",
          "data": {
            "image/png": "[encoded data removed]",
            "text/plain": [
              "<Figure size 360x360 with 1 Axes>"
            ]
          },
          "metadata": {
            "tags": [],
            "needs_background": "light"
          }
        }
      ]
    },
    {
      "cell_type": "markdown",
      "metadata": {
        "id": "KYzD081HfREt"
      },
      "source": [
        "From the above summary statistics about the age attribute, we can categorize the customers into three age categories : \n",
        "\n",
        "    --> less than 30 years as \"Young\" \n",
        "    --> 30 to 50 years as \"MIDDLE\"\n",
        "    --> Greater than 50 years as \"OLD\" \n",
        " We can now plot the count of customers in each category who have purchased our product. "
      ]
    },
    {
      "cell_type": "code",
      "metadata": {
        "id": "cDtd1B8zfREt"
      },
      "source": [
        "def categorize(a):\n",
        "    if a<30:\n",
        "        return \"Young\"\n",
        "    elif a>=30 and a<=50:\n",
        "        return \"Middle\"\n",
        "    elif a>50:\n",
        "        return \"Old\""
      ],
      "execution_count": 11,
      "outputs": []
    },
    {
      "cell_type": "code",
      "metadata": {
        "id": "xfPW9EsnfREt"
      },
      "source": [
        "data['Age_category']=data['Age '].apply(lambda x: categorize(x))\n",
        "data['Age_category'].value_counts()"
      ],
      "execution_count": null,
      "outputs": []
    },
    {
      "cell_type": "code",
      "metadata": {
        "colab": {
          "base_uri": "https://localhost:8080/",
          "height": 297
        },
        "id": "3gpRw-xbfREu",
        "outputId": "3a46c384-a9a0-4007-acbf-d193118b020a"
      },
      "source": [
        "sns.countplot(x='Age_category',hue='Purchased',data=data)"
      ],
      "execution_count": 13,
      "outputs": [
        {
          "output_type": "execute_result",
          "data": {
            "text/plain": [
              "<matplotlib.axes._subplots.AxesSubplot at 0x7f416ce5b3d0>"
            ]
          },
          "metadata": {
            "tags": []
          },
          "execution_count": 13
        },
        {
          "output_type": "display_data",
          "data": {
            "image/png": "[encoded data removed]",
            "text/plain": [
              "<Figure size 432x288 with 1 Axes>"
            ]
          },
          "metadata": {
            "tags": [],
            "needs_background": "light"
          }
        }
      ]
    },
    {
      "cell_type": "markdown",
      "metadata": {
        "id": "X6yPZ3C7fREu"
      },
      "source": [
        "Looking at this plot we can easily see that customers who are greater that 30 years of age are more likely to buy the product. Also when we compare the middle and old age, the purchase percentage is higher in the old age category( >50 years). "
      ]
    },
    {
      "cell_type": "code",
      "metadata": {
        "colab": {
          "base_uri": "https://localhost:8080/"
        },
        "id": "JmG5sUyffREu",
        "outputId": "9601d7aa-cd27-4561-eddf-c183bc8c95e1"
      },
      "source": [
        "data['EstimatedSalary '].describe()"
      ],
      "execution_count": 14,
      "outputs": [
        {
          "output_type": "execute_result",
          "data": {
            "text/plain": [
              "count       400.000000\n",
              "mean      69742.500000\n",
              "std       34096.960282\n",
              "min       15000.000000\n",
              "25%       43000.000000\n",
              "50%       70000.000000\n",
              "75%       88000.000000\n",
              "max      150000.000000\n",
              "Name: EstimatedSalary , dtype: float64"
            ]
          },
          "metadata": {
            "tags": []
          },
          "execution_count": 14
        }
      ]
    },
    {
      "cell_type": "code",
      "metadata": {
        "colab": {
          "base_uri": "https://localhost:8080/",
          "height": 400
        },
        "id": "4S9wTrYmfREv",
        "outputId": "e84f8d12-af30-41ca-bc92-cf23ffae1da8"
      },
      "source": [
        "sns.catplot(x='Purchased',y='EstimatedSalary ',data=data)"
      ],
      "execution_count": 15,
      "outputs": [
        {
          "output_type": "execute_result",
          "data": {
            "text/plain": [
              "<seaborn.axisgrid.FacetGrid at 0x7f41756ca790>"
            ]
          },
          "metadata": {
            "tags": []
          },
          "execution_count": 15
        },
        {
          "output_type": "display_data",
          "data": {
            "image/png": "[encoded data removed]",
            "text/plain": [
              "<Figure size 360x360 with 1 Axes>"
            ]
          },
          "metadata": {
            "tags": [],
            "needs_background": "light"
          }
        }
      ]
    },
    {
      "cell_type": "code",
      "metadata": {
        "colab": {
          "base_uri": "https://localhost:8080/",
          "height": 296
        },
        "id": "RzUN_LMTfREv",
        "outputId": "8014c457-9519-4ee5-ab4e-21b4e28fca23"
      },
      "source": [
        "sns.boxplot(x='Purchased',y='EstimatedSalary ',data=data)"
      ],
      "execution_count": 16,
      "outputs": [
        {
          "output_type": "execute_result",
          "data": {
            "text/plain": [
              "<matplotlib.axes._subplots.AxesSubplot at 0x7f4176f99150>"
            ]
          },
          "metadata": {
            "tags": []
          },
          "execution_count": 16
        },
        {
          "output_type": "display_data",
          "data": {
            "image/png": "[encoded data removed]",
            "text/plain": [
              "<Figure size 432x288 with 1 Axes>"
            ]
          },
          "metadata": {
            "tags": [],
            "needs_background": "light"
          }
        }
      ]
    },
    {
      "cell_type": "markdown",
      "metadata": {
        "id": "Qjh0iKLHfREv"
      },
      "source": [
        "From the above box plots we can see that 50% of the customers who purchased from the ads earn between 40000 to 100000.\n",
        "We can split the earnings into three groups so that we can get a better understanding about the salary range in which the purchases are high. "
      ]
    },
    {
      "cell_type": "code",
      "metadata": {
        "id": "uKhAHPhjfREv"
      },
      "source": [
        "def cate_sal(a):\n",
        "    if a<45000:\n",
        "        return \" < 45000\"\n",
        "    elif a>=45000 and a<=70000:\n",
        "        return \" > 45000 and < 70000\"\n",
        "    elif a> 70000:\n",
        "        return \" > 70000\""
      ],
      "execution_count": 18,
      "outputs": []
    },
    {
      "cell_type": "code",
      "metadata": {
        "id": "TeqpruiEfREw"
      },
      "source": [
        "data['Salary_category']=data['EstimatedSalary '].apply(lambda x: cate_sal(x))"
      ],
      "execution_count": 19,
      "outputs": []
    },
    {
      "cell_type": "code",
      "metadata": {
        "id": "tW_TQuGLfREw"
      },
      "source": [
        "data['Salary_category'].value_counts()"
      ],
      "execution_count": 21,
      "outputs": []
    },
    {
      "cell_type": "code",
      "metadata": {
        "colab": {
          "base_uri": "https://localhost:8080/",
          "height": 297
        },
        "id": "XFccmCikfREw",
        "outputId": "1a186585-b9e3-45cf-ab45-6f39ce8933fc"
      },
      "source": [
        "sns.countplot(x='Salary_category',hue='Purchased',data=data)"
      ],
      "execution_count": 20,
      "outputs": [
        {
          "output_type": "execute_result",
          "data": {
            "text/plain": [
              "<matplotlib.axes._subplots.AxesSubplot at 0x7f416cc76350>"
            ]
          },
          "metadata": {
            "tags": []
          },
          "execution_count": 20
        },
        {
          "output_type": "display_data",
          "data": {
            "image/png": "[encoded data removed]",
            "text/plain": [
              "<Figure size 432x288 with 1 Axes>"
            ]
          },
          "metadata": {
            "tags": [],
            "needs_background": "light"
          }
        }
      ]
    },
    {
      "cell_type": "markdown",
      "metadata": {
        "id": "W7b9m3LNfREw"
      },
      "source": [
        "This plot shows that the customers with salary greater than 70000 are more likely to buy through the ads. The purchase percentange of customers to whome the ads are shown is very high in the salary range >70000 than the customers with less salary.But it is a bit strange to see customers with salary greater than 45000 purchase less than customers with salry less than 45000. "
      ]
    },
    {
      "cell_type": "code",
      "metadata": {
        "id": "7ZSBuxB9fREx"
      },
      "source": [
        "\n",
        "data['Gender ']=data['Gender '].apply(lambda x: 0 if x==\"Female \" else 1)"
      ],
      "execution_count": 22,
      "outputs": []
    },
    {
      "cell_type": "code",
      "metadata": {
        "colab": {
          "base_uri": "https://localhost:8080/",
          "height": 195
        },
        "id": "OEK-iQ2wfREx",
        "outputId": "c32f8fac-9bb4-4b2d-c12c-ac293c562dc7"
      },
      "source": [
        "data.head()"
      ],
      "execution_count": 23,
      "outputs": [
        {
          "output_type": "execute_result",
          "data": {
            "text/html": [
              "<div>\n",
              "<style scoped>\n",
              "    .dataframe tbody tr th:only-of-type {\n",
              "        vertical-align: middle;\n",
              "    }\n",
              "\n",
              "    .dataframe tbody tr th {\n",
              "        vertical-align: top;\n",
              "    }\n",
              "\n",
              "    .dataframe thead th {\n",
              "        text-align: right;\n",
              "    }\n",
              "</style>\n",
              "<table border=\"1\" class=\"dataframe\">\n",
              "  <thead>\n",
              "    <tr style=\"text-align: right;\">\n",
              "      <th></th>\n",
              "      <th>User ID</th>\n",
              "      <th>Gender</th>\n",
              "      <th>Age</th>\n",
              "      <th>EstimatedSalary</th>\n",
              "      <th>Purchased</th>\n",
              "      <th>Age_category</th>\n",
              "      <th>Salary_category</th>\n",
              "    </tr>\n",
              "  </thead>\n",
              "  <tbody>\n",
              "    <tr>\n",
              "      <th>0</th>\n",
              "      <td>15624510</td>\n",
              "      <td>1</td>\n",
              "      <td>19</td>\n",
              "      <td>19000</td>\n",
              "      <td>0</td>\n",
              "      <td>Young</td>\n",
              "      <td>&lt; 45000</td>\n",
              "    </tr>\n",
              "    <tr>\n",
              "      <th>1</th>\n",
              "      <td>15810944</td>\n",
              "      <td>1</td>\n",
              "      <td>35</td>\n",
              "      <td>20000</td>\n",
              "      <td>0</td>\n",
              "      <td>Middle</td>\n",
              "      <td>&lt; 45000</td>\n",
              "    </tr>\n",
              "    <tr>\n",
              "      <th>2</th>\n",
              "      <td>15668575</td>\n",
              "      <td>0</td>\n",
              "      <td>26</td>\n",
              "      <td>43000</td>\n",
              "      <td>0</td>\n",
              "      <td>Young</td>\n",
              "      <td>&lt; 45000</td>\n",
              "    </tr>\n",
              "    <tr>\n",
              "      <th>3</th>\n",
              "      <td>15603246</td>\n",
              "      <td>0</td>\n",
              "      <td>27</td>\n",
              "      <td>57000</td>\n",
              "      <td>0</td>\n",
              "      <td>Young</td>\n",
              "      <td>&gt; 45000 and &lt; 70000</td>\n",
              "    </tr>\n",
              "    <tr>\n",
              "      <th>4</th>\n",
              "      <td>15804002</td>\n",
              "      <td>1</td>\n",
              "      <td>19</td>\n",
              "      <td>76000</td>\n",
              "      <td>0</td>\n",
              "      <td>Young</td>\n",
              "      <td>&gt; 70000</td>\n",
              "    </tr>\n",
              "  </tbody>\n",
              "</table>\n",
              "</div>"
            ],
            "text/plain": [
              "   User ID   Gender   Age   ...  Purchased  Age_category       Salary_category\n",
              "0  15624510        1    19  ...          0         Young               < 45000\n",
              "1  15810944        1    35  ...          0        Middle               < 45000\n",
              "2  15668575        0    26  ...          0         Young               < 45000\n",
              "3  15603246        0    27  ...          0         Young   > 45000 and < 70000\n",
              "4  15804002        1    19  ...          0         Young               > 70000\n",
              "\n",
              "[5 rows x 7 columns]"
            ]
          },
          "metadata": {
            "tags": []
          },
          "execution_count": 23
        }
      ]
    },
    {
      "cell_type": "code",
      "metadata": {
        "id": "dmvx06rvfREx"
      },
      "source": [
        "data.drop(['User ID '],axis=1,inplace=True)"
      ],
      "execution_count": 24,
      "outputs": []
    },
    {
      "cell_type": "code",
      "metadata": {
        "id": "LFpMEA3GfREx"
      },
      "source": [
        "X= data.iloc[:, [0,1,2]].values  \n",
        "Y= data[\"Purchased\"].values"
      ],
      "execution_count": 25,
      "outputs": []
    },
    {
      "cell_type": "code",
      "metadata": {
        "id": "FC1Qv-gwfREy"
      },
      "source": [
        "sc=StandardScaler()\n",
        "X=sc.fit_transform(X)"
      ],
      "execution_count": 26,
      "outputs": []
    },
    {
      "cell_type": "code",
      "metadata": {
        "id": "n-wCi42jfREy"
      },
      "source": [
        "# Splitting dataset into train and test \n",
        "X_train, X_test, Y_train, Y_test = train_test_split(X, Y, test_size = 0.30, random_state = 0 ) \n"
      ],
      "execution_count": 27,
      "outputs": []
    },
    {
      "cell_type": "code",
      "metadata": {
        "id": "cwyikCZDfREy"
      },
      "source": [
        "from scipy.stats import mode\n",
        "class K_Nearest_Neighbors_Classifier() :  \n",
        "      \n",
        "    def __init__( self, K ) : \n",
        "          \n",
        "        self.K = K \n",
        "          \n",
        "    # Function to store training set \n",
        "          \n",
        "    def fit( self, X_train, Y_train ) : \n",
        "          \n",
        "        self.X_train = X_train \n",
        "          \n",
        "        self.Y_train = Y_train \n",
        "          \n",
        "        # no_of_training_examples, no_of_features \n",
        "          \n",
        "        self.m, self.n = X_train.shape \n",
        "      \n",
        "    # Function for prediction \n",
        "          \n",
        "    def predict( self, X_test ) : \n",
        "          \n",
        "        self.X_test = X_test \n",
        "          \n",
        "        # no_of_test_examples, no_of_features \n",
        "          \n",
        "        self.m_test, self.n = X_test.shape \n",
        "          \n",
        "        # initialize Y_predict \n",
        "          \n",
        "        Y_predict = np.zeros( self.m_test ) \n",
        "          \n",
        "        for i in range( self.m_test ) : \n",
        "              \n",
        "            x = self.X_test[i] \n",
        "              \n",
        "            # find the K nearest neighbors from current test example \n",
        "              \n",
        "            neighbors = np.zeros( self.K ) \n",
        "              \n",
        "            neighbors = self.find_neighbors( x ) \n",
        "              \n",
        "            # most frequent class in K neighbors \n",
        "              \n",
        "            Y_predict[i] =mode( neighbors )[0][0]     \n",
        "              \n",
        "        return Y_predict \n",
        "      \n",
        "    # Function to find the K nearest neighbors to current test example \n",
        "            \n",
        "    def find_neighbors( self, x ) : \n",
        "          \n",
        "        # calculate all the euclidean distances between current  \n",
        "        # test example x and training set X_train \n",
        "          \n",
        "        euclidean_distances = np.zeros( self.m ) \n",
        "          \n",
        "        for i in range( self.m ) : \n",
        "              \n",
        "            d = self.euclidean( x, self.X_train[i] ) \n",
        "              \n",
        "            euclidean_distances[i] = d \n",
        "          \n",
        "        # sort Y_train according to euclidean_distance_array and  \n",
        "        # store into Y_train_sorted \n",
        "          \n",
        "        inds = euclidean_distances.argsort() \n",
        "          \n",
        "        Y_train_sorted = self.Y_train[inds] \n",
        "          \n",
        "        return Y_train_sorted[:self.K] \n",
        "      \n",
        "    # Function to calculate euclidean distance \n",
        "              \n",
        "    def euclidean( self, x, x_train ) : \n",
        "          \n",
        "        return np.sqrt( np.sum( np.square( x - x_train ) ) ) \n",
        "  \n",
        "# Driver code \n",
        "  \n"
      ],
      "execution_count": 28,
      "outputs": []
    },
    {
      "cell_type": "code",
      "metadata": {
        "id": "l5gQcVXNfREz"
      },
      "source": [
        "\n",
        "    # Importing dataset \n",
        "    # Model training \n",
        "model_knn = K_Nearest_Neighbors_Classifier( K = 3 )       \n",
        "model_knn.fit( X_train, Y_train ) \n",
        "#model1 = KNeighborsClassifier( n_neighbors = 3 ) \n",
        "#model1.fit( X_train, Y_train ) \n",
        "      \n"
      ],
      "execution_count": 29,
      "outputs": []
    },
    {
      "cell_type": "code",
      "metadata": {
        "id": "Kzkv1qIjfREz"
      },
      "source": [
        "    # Prediction on test set \n",
        "Y_pred_knn = model_knn.predict( X_test ) \n"
      ],
      "execution_count": 30,
      "outputs": []
    },
    {
      "cell_type": "code",
      "metadata": {
        "colab": {
          "base_uri": "https://localhost:8080/"
        },
        "id": "IM4haUzmfRE0",
        "outputId": "1bb57a12-f2ed-4155-ccfc-3108c9cb7e27"
      },
      "source": [
        "\n",
        "#Y_pred1 = model1.predict( X_test ) \n",
        "      \n",
        "    # measure performance \n",
        "      \n",
        "correctly_classified = 0\n",
        "correctly_classified1 = 0\n",
        "      \n",
        "    # counter \n",
        "count = 0\n",
        "for count in range(np.size(Y_pred_knn)):\n",
        "    if Y_test[count] == Y_pred_knn[count] :\n",
        "        correctly_classified = correctly_classified + 1\n",
        "    count = count + 1\n",
        "print( \"Accuracy on test set by our model       :  \", (correctly_classified / count ) * 100 ) \n",
        "#print( \"Accuracy on test set by sklearn model   :  \", (correctly_classified1 / count ) * 100 ) \n",
        "      "
      ],
      "execution_count": 31,
      "outputs": [
        {
          "output_type": "stream",
          "text": [
            "Accuracy on test set by our model       :   92.5\n"
          ],
          "name": "stdout"
        }
      ]
    },
    {
      "cell_type": "code",
      "metadata": {
        "id": "NnFQlfjWfRE0"
      },
      "source": [
        "from sklearn.neighbors import KNeighborsClassifier"
      ],
      "execution_count": 32,
      "outputs": []
    },
    {
      "cell_type": "code",
      "metadata": {
        "id": "_rv74_xufRE0"
      },
      "source": [
        "knn1=K_Nearest_Neighbors_Classifier(3)"
      ],
      "execution_count": 33,
      "outputs": []
    },
    {
      "cell_type": "code",
      "metadata": {
        "id": "2EDUAYPufRE1"
      },
      "source": [
        "knn1.fit( X_train, Y_train ) "
      ],
      "execution_count": 34,
      "outputs": []
    },
    {
      "cell_type": "code",
      "metadata": {
        "id": "_GUO1vaKfRE1"
      },
      "source": [
        " y1p=knn1.predict(X_test)\n"
      ],
      "execution_count": 35,
      "outputs": []
    },
    {
      "cell_type": "code",
      "metadata": {
        "colab": {
          "base_uri": "https://localhost:8080/"
        },
        "id": "OvVpj8PsfRE1",
        "outputId": "c7dcf2d0-0cf5-4cef-f765-3f6a08ba28b4"
      },
      "source": [
        "from sklearn import metrics\n",
        "# Model Accuracy, how often is the classifier correct?\n",
        "print(\"Accuracy:\",metrics.accuracy_score(Y_test, y1p))"
      ],
      "execution_count": 36,
      "outputs": [
        {
          "output_type": "stream",
          "text": [
            "Accuracy: 0.925\n"
          ],
          "name": "stdout"
        }
      ]
    },
    {
      "cell_type": "code",
      "metadata": {
        "id": "raivdWwkfRE2"
      },
      "source": [
        ""
      ],
      "execution_count": null,
      "outputs": []
    }
  ]
}